{
 "cells": [
  {
   "cell_type": "markdown",
   "metadata": {},
   "source": [
    "# Projet Machine Learning\n",
    "- Bruno Dumas (p1100740)\n",
    "- Romy Ratolojanahary (p1210599)"
   ]
  },
  {
   "cell_type": "markdown",
   "metadata": {},
   "source": [
    "## Présentation du sujet\n",
    "\n",
    "Le sujet de ce projet est proposé sur le site Kaggle par le site Quora. Il s'agit d'un forum de questions-réponses sur tous les sujets.\n",
    "Quora désire identifier les questions dupliquées. Le dataset contient des paires de questions.\n",
    "Le but du projet est donc de définir si deux questions sont similaires ou non.\n",
    "\n",
    "Les données sont téléchargeables à l'url suivante : https://www.kaggle.com/c/quora-question-pairs/data "
   ]
  },
  {
   "cell_type": "code",
   "execution_count": 1,
   "metadata": {
    "collapsed": false
   },
   "outputs": [
    {
     "name": "stdout",
     "output_type": "stream",
     "text": [
      "[nltk_data] Downloading package stopwords to /home/bruno/nltk_data...\n",
      "[nltk_data]   Package stopwords is already up-to-date!\n",
      "[nltk_data] Downloading package wordnet to /home/bruno/nltk_data...\n",
      "[nltk_data]   Package wordnet is already up-to-date!\n",
      "[nltk_data] Downloading package punkt to /home/bruno/nltk_data...\n",
      "[nltk_data]   Package punkt is already up-to-date!\n",
      "[nltk_data] Downloading package maxent_treebank_pos_tagger to\n",
      "[nltk_data]     /home/bruno/nltk_data...\n",
      "[nltk_data]   Package maxent_treebank_pos_tagger is already up-to-\n",
      "[nltk_data]       date!\n",
      "[nltk_data] Downloading package averaged_perceptron_tagger to\n",
      "[nltk_data]     /home/bruno/nltk_data...\n",
      "[nltk_data]   Package averaged_perceptron_tagger is already up-to-\n",
      "[nltk_data]       date!\n"
     ]
    }
   ],
   "source": [
    "import numpy as np\n",
    "np.set_printoptions(threshold=np.nan)\n",
    "import pandas as pd\n",
    "import warnings\n",
    "import matplotlib.pyplot as plt\n",
    "warnings.filterwarnings('ignore')\n",
    "import nltk\n",
    "\n",
    "from nltk.corpus import stopwords\n",
    "from nltk.corpus import wordnet as wn\n",
    "\n",
    "for lib in ['stopwords', 'wordnet', 'punkt', 'maxent_treebank_pos_tagger', 'averaged_perceptron_tagger']: \n",
    "    nltk.download(lib)"
   ]
  },
  {
   "cell_type": "code",
   "execution_count": 2,
   "metadata": {
    "collapsed": false
   },
   "outputs": [],
   "source": [
    "# On importe les données\n",
    "quora = pd.read_csv('./train.csv', delimiter=',')\n",
    "\n",
    "# Réduction de la taille de la base pour accélérer les traitements\n",
    "from sklearn.model_selection import train_test_split\n",
    "quora, _ = train_test_split(quora, test_size = 0.9)\n",
    "quora = quora.sort()"
   ]
  },
  {
   "cell_type": "code",
   "execution_count": 3,
   "metadata": {
    "collapsed": false,
    "scrolled": true
   },
   "outputs": [
    {
     "data": {
      "text/html": [
       "<div>\n",
       "<table border=\"1\" class=\"dataframe\">\n",
       "  <thead>\n",
       "    <tr style=\"text-align: right;\">\n",
       "      <th></th>\n",
       "      <th>id</th>\n",
       "      <th>qid1</th>\n",
       "      <th>qid2</th>\n",
       "      <th>question1</th>\n",
       "      <th>question2</th>\n",
       "      <th>is_duplicate</th>\n",
       "    </tr>\n",
       "  </thead>\n",
       "  <tbody>\n",
       "    <tr>\n",
       "      <th>16</th>\n",
       "      <td>16</td>\n",
       "      <td>33</td>\n",
       "      <td>34</td>\n",
       "      <td>What does manipulation mean?</td>\n",
       "      <td>What does manipulation means?</td>\n",
       "      <td>1</td>\n",
       "    </tr>\n",
       "    <tr>\n",
       "      <th>19</th>\n",
       "      <td>19</td>\n",
       "      <td>39</td>\n",
       "      <td>40</td>\n",
       "      <td>Which is the best digital marketing institutio...</td>\n",
       "      <td>Which is the best digital marketing institute ...</td>\n",
       "      <td>0</td>\n",
       "    </tr>\n",
       "    <tr>\n",
       "      <th>21</th>\n",
       "      <td>21</td>\n",
       "      <td>43</td>\n",
       "      <td>44</td>\n",
       "      <td>What's causing someone to be jealous?</td>\n",
       "      <td>What can I do to avoid being jealous of someone?</td>\n",
       "      <td>0</td>\n",
       "    </tr>\n",
       "    <tr>\n",
       "      <th>27</th>\n",
       "      <td>27</td>\n",
       "      <td>55</td>\n",
       "      <td>56</td>\n",
       "      <td>Does society place too much importance on sports?</td>\n",
       "      <td>How do sports contribute to the society?</td>\n",
       "      <td>0</td>\n",
       "    </tr>\n",
       "    <tr>\n",
       "      <th>31</th>\n",
       "      <td>31</td>\n",
       "      <td>63</td>\n",
       "      <td>64</td>\n",
       "      <td>What are some special cares for someone with a...</td>\n",
       "      <td>How can I keep my nose from getting stuffy at ...</td>\n",
       "      <td>1</td>\n",
       "    </tr>\n",
       "    <tr>\n",
       "      <th>37</th>\n",
       "      <td>37</td>\n",
       "      <td>75</td>\n",
       "      <td>76</td>\n",
       "      <td>When a girlfriend asks her boyfriend \"Why did ...</td>\n",
       "      <td>My girlfriend said that we should end this bec...</td>\n",
       "      <td>0</td>\n",
       "    </tr>\n",
       "    <tr>\n",
       "      <th>38</th>\n",
       "      <td>38</td>\n",
       "      <td>77</td>\n",
       "      <td>78</td>\n",
       "      <td>How do we prepare for UPSC?</td>\n",
       "      <td>How do I prepare for civil service?</td>\n",
       "      <td>1</td>\n",
       "    </tr>\n",
       "    <tr>\n",
       "      <th>56</th>\n",
       "      <td>56</td>\n",
       "      <td>113</td>\n",
       "      <td>114</td>\n",
       "      <td>Who is israil friend?</td>\n",
       "      <td>Is my boyfriend lying about his true feelings ...</td>\n",
       "      <td>0</td>\n",
       "    </tr>\n",
       "    <tr>\n",
       "      <th>59</th>\n",
       "      <td>59</td>\n",
       "      <td>119</td>\n",
       "      <td>120</td>\n",
       "      <td>What are the best ways to learn French?</td>\n",
       "      <td>How do I learn french genders?</td>\n",
       "      <td>0</td>\n",
       "    </tr>\n",
       "    <tr>\n",
       "      <th>70</th>\n",
       "      <td>70</td>\n",
       "      <td>141</td>\n",
       "      <td>142</td>\n",
       "      <td>What are the types of immunity?</td>\n",
       "      <td>What are the different types of immunity in ou...</td>\n",
       "      <td>0</td>\n",
       "    </tr>\n",
       "  </tbody>\n",
       "</table>\n",
       "</div>"
      ],
      "text/plain": [
       "    id  qid1  qid2                                          question1  \\\n",
       "16  16    33    34                       What does manipulation mean?   \n",
       "19  19    39    40  Which is the best digital marketing institutio...   \n",
       "21  21    43    44              What's causing someone to be jealous?   \n",
       "27  27    55    56  Does society place too much importance on sports?   \n",
       "31  31    63    64  What are some special cares for someone with a...   \n",
       "37  37    75    76  When a girlfriend asks her boyfriend \"Why did ...   \n",
       "38  38    77    78                        How do we prepare for UPSC?   \n",
       "56  56   113   114                              Who is israil friend?   \n",
       "59  59   119   120            What are the best ways to learn French?   \n",
       "70  70   141   142                    What are the types of immunity?   \n",
       "\n",
       "                                            question2  is_duplicate  \n",
       "16                      What does manipulation means?             1  \n",
       "19  Which is the best digital marketing institute ...             0  \n",
       "21   What can I do to avoid being jealous of someone?             0  \n",
       "27           How do sports contribute to the society?             0  \n",
       "31  How can I keep my nose from getting stuffy at ...             1  \n",
       "37  My girlfriend said that we should end this bec...             0  \n",
       "38                How do I prepare for civil service?             1  \n",
       "56  Is my boyfriend lying about his true feelings ...             0  \n",
       "59                     How do I learn french genders?             0  \n",
       "70  What are the different types of immunity in ou...             0  "
      ]
     },
     "execution_count": 3,
     "metadata": {},
     "output_type": "execute_result"
    }
   ],
   "source": [
    "quora.head(10)"
   ]
  },
  {
   "cell_type": "markdown",
   "metadata": {},
   "source": [
    "## Statistique Descriptive\n",
    "\n",
    "Chaque observation comporte 2 paires de questions. Les autres colonnes sont l'id de l'observation, l'id de la question 1, l'id de la question 2 et enfin un booléen 'is_duplicate' qui vaut 1 si les questions sont similaires, 0 sinon."
   ]
  },
  {
   "cell_type": "code",
   "execution_count": 4,
   "metadata": {
    "collapsed": false,
    "scrolled": false
   },
   "outputs": [
    {
     "name": "stdout",
     "output_type": "stream",
     "text": [
      "n_obs  = 40429\n",
      "n_obs sans duplicats  = 40429\n",
      "n_obs sans NA  = 40429\n",
      "is_duplicate\n",
      "0    25461\n",
      "1    14968\n",
      "dtype: int64\n"
     ]
    },
    {
     "data": {
      "image/png": "[encoded data removed]",
      "text/plain": [
       "<matplotlib.figure.Figure at 0x7f9a499a2f98>"
      ]
     },
     "metadata": {},
     "output_type": "display_data"
    }
   ],
   "source": [
    "# Nombre de paires de questions\n",
    "n_obs = quora.shape[0]\n",
    "print(\"n_obs  = %d\" %n_obs)\n",
    "\n",
    "# On enlève les duplicats (les paires qui sont présentes plus d'une fois) \n",
    "quora.drop_duplicates(inplace=True)\n",
    "n_obs1 = quora.shape[0]\n",
    "print(\"n_obs sans duplicats  = %d\" %n_obs1)\n",
    "\n",
    "# On enlève les lignes contenant des NaN\n",
    "\n",
    "quora.dropna(inplace=True) \n",
    "n_obs2 = quora.shape[0]\n",
    "print(\"n_obs sans NA  = %d\" %n_obs2)\n",
    "\n",
    "# Proportion de 0 et de 1\n",
    "print(quora.groupby(['is_duplicate']).size())\n",
    "quora.groupby(['is_duplicate']).size().plot.bar()\n",
    "plt.show()"
   ]
  },
  {
   "cell_type": "markdown",
   "metadata": {},
   "source": [
    "## Préparation des données"
   ]
  },
  {
   "cell_type": "code",
   "execution_count": 5,
   "metadata": {
    "collapsed": true
   },
   "outputs": [],
   "source": [
    "# Ajouter une colonne tokens qui contient les mots tokenisés\n",
    "quora['tokens1'] = quora.question1.apply(lambda x: (nltk.word_tokenize(x)))\n",
    "quora['tokens2'] = quora.question2.apply(lambda x: (nltk.word_tokenize(x)))"
   ]
  },
  {
   "cell_type": "code",
   "execution_count": 6,
   "metadata": {
    "collapsed": false
   },
   "outputs": [],
   "source": [
    "# On détermine la nature grammaticale des mots \n",
    "quora['tokenspos1'] = quora.tokens1.apply(lambda x: nltk.pos_tag(x))\n",
    "quora['tokenspos2'] = quora.tokens2.apply(lambda x: nltk.pos_tag(x))"
   ]
  },
  {
   "cell_type": "code",
   "execution_count": 7,
   "metadata": {
    "collapsed": false
   },
   "outputs": [],
   "source": [
    "from nltk.stem import WordNetLemmatizer\n",
    "\n",
    "# Fonction qui retourne la 'racine' du mot\n",
    "# Si c'est un nom, renvoyer nom générique (singulier), si verbe, renvoyer l'infinitif\n",
    "\n",
    "def lemmatizer(sentence): # Entrée de la forme [(mot1,tag1),(mot2,tag2)....]\n",
    "    wordnet_lemmatizer = WordNetLemmatizer()\n",
    "    posVerb = []\n",
    "    for t in sentence:\n",
    "        if t[1][0] == 'V':\n",
    "            posVerb.append(wordnet_lemmatizer.lemmatize(t[0],pos='v'))\n",
    "        else:\n",
    "            posVerb.append(wordnet_lemmatizer.lemmatize(t[0]))\n",
    "    return posVerb    \n",
    "                           \n",
    "quora['lemma1'] = quora.tokenspos1.apply(lambda x: lemmatizer(x))\n",
    "quora['lemma2'] = quora.tokenspos2.apply(lambda x: lemmatizer(x))"
   ]
  },
  {
   "cell_type": "code",
   "execution_count": 8,
   "metadata": {
    "collapsed": false
   },
   "outputs": [
    {
     "data": {
      "text/html": [
       "<div>\n",
       "<table border=\"1\" class=\"dataframe\">\n",
       "  <thead>\n",
       "    <tr style=\"text-align: right;\">\n",
       "      <th></th>\n",
       "      <th>question1</th>\n",
       "      <th>question2</th>\n",
       "      <th>lemma1</th>\n",
       "      <th>lemma2</th>\n",
       "    </tr>\n",
       "  </thead>\n",
       "  <tbody>\n",
       "    <tr>\n",
       "      <th>16</th>\n",
       "      <td>What does manipulation mean?</td>\n",
       "      <td>What does manipulation means?</td>\n",
       "      <td>[What, do, manipulation, mean, ?]</td>\n",
       "      <td>[What, do, manipulation, mean, ?]</td>\n",
       "    </tr>\n",
       "    <tr>\n",
       "      <th>19</th>\n",
       "      <td>Which is the best digital marketing institutio...</td>\n",
       "      <td>Which is the best digital marketing institute ...</td>\n",
       "      <td>[Which, be, the, best, digital, marketing, ins...</td>\n",
       "      <td>[Which, be, the, best, digital, marketing, ins...</td>\n",
       "    </tr>\n",
       "    <tr>\n",
       "      <th>21</th>\n",
       "      <td>What's causing someone to be jealous?</td>\n",
       "      <td>What can I do to avoid being jealous of someone?</td>\n",
       "      <td>[What, 's, cause, someone, to, be, jealous, ?]</td>\n",
       "      <td>[What, can, I, do, to, avoid, be, jealous, of,...</td>\n",
       "    </tr>\n",
       "    <tr>\n",
       "      <th>27</th>\n",
       "      <td>Does society place too much importance on sports?</td>\n",
       "      <td>How do sports contribute to the society?</td>\n",
       "      <td>[Does, society, place, too, much, importance, ...</td>\n",
       "      <td>[How, do, sport, contribute, to, the, society, ?]</td>\n",
       "    </tr>\n",
       "    <tr>\n",
       "      <th>31</th>\n",
       "      <td>What are some special cares for someone with a...</td>\n",
       "      <td>How can I keep my nose from getting stuffy at ...</td>\n",
       "      <td>[What, be, some, special, care, for, someone, ...</td>\n",
       "      <td>[How, can, I, keep, my, nose, from, get, stuff...</td>\n",
       "    </tr>\n",
       "    <tr>\n",
       "      <th>37</th>\n",
       "      <td>When a girlfriend asks her boyfriend \"Why did ...</td>\n",
       "      <td>My girlfriend said that we should end this bec...</td>\n",
       "      <td>[When, a, girlfriend, ask, her, boyfriend, ``,...</td>\n",
       "      <td>[My, girlfriend, say, that, we, should, end, t...</td>\n",
       "    </tr>\n",
       "    <tr>\n",
       "      <th>38</th>\n",
       "      <td>How do we prepare for UPSC?</td>\n",
       "      <td>How do I prepare for civil service?</td>\n",
       "      <td>[How, do, we, prepare, for, UPSC, ?]</td>\n",
       "      <td>[How, do, I, prepare, for, civil, service, ?]</td>\n",
       "    </tr>\n",
       "    <tr>\n",
       "      <th>56</th>\n",
       "      <td>Who is israil friend?</td>\n",
       "      <td>Is my boyfriend lying about his true feelings ...</td>\n",
       "      <td>[Who, be, israil, friend, ?]</td>\n",
       "      <td>[Is, my, boyfriend, lie, about, his, true, fee...</td>\n",
       "    </tr>\n",
       "    <tr>\n",
       "      <th>59</th>\n",
       "      <td>What are the best ways to learn French?</td>\n",
       "      <td>How do I learn french genders?</td>\n",
       "      <td>[What, be, the, best, way, to, learn, French, ?]</td>\n",
       "      <td>[How, do, I, learn, french, gender, ?]</td>\n",
       "    </tr>\n",
       "    <tr>\n",
       "      <th>70</th>\n",
       "      <td>What are the types of immunity?</td>\n",
       "      <td>What are the different types of immunity in ou...</td>\n",
       "      <td>[What, be, the, type, of, immunity, ?]</td>\n",
       "      <td>[What, be, the, different, type, of, immunity,...</td>\n",
       "    </tr>\n",
       "  </tbody>\n",
       "</table>\n",
       "</div>"
      ],
      "text/plain": [
       "                                            question1  \\\n",
       "16                       What does manipulation mean?   \n",
       "19  Which is the best digital marketing institutio...   \n",
       "21              What's causing someone to be jealous?   \n",
       "27  Does society place too much importance on sports?   \n",
       "31  What are some special cares for someone with a...   \n",
       "37  When a girlfriend asks her boyfriend \"Why did ...   \n",
       "38                        How do we prepare for UPSC?   \n",
       "56                              Who is israil friend?   \n",
       "59            What are the best ways to learn French?   \n",
       "70                    What are the types of immunity?   \n",
       "\n",
       "                                            question2  \\\n",
       "16                      What does manipulation means?   \n",
       "19  Which is the best digital marketing institute ...   \n",
       "21   What can I do to avoid being jealous of someone?   \n",
       "27           How do sports contribute to the society?   \n",
       "31  How can I keep my nose from getting stuffy at ...   \n",
       "37  My girlfriend said that we should end this bec...   \n",
       "38                How do I prepare for civil service?   \n",
       "56  Is my boyfriend lying about his true feelings ...   \n",
       "59                     How do I learn french genders?   \n",
       "70  What are the different types of immunity in ou...   \n",
       "\n",
       "                                               lemma1  \\\n",
       "16                  [What, do, manipulation, mean, ?]   \n",
       "19  [Which, be, the, best, digital, marketing, ins...   \n",
       "21     [What, 's, cause, someone, to, be, jealous, ?]   \n",
       "27  [Does, society, place, too, much, importance, ...   \n",
       "31  [What, be, some, special, care, for, someone, ...   \n",
       "37  [When, a, girlfriend, ask, her, boyfriend, ``,...   \n",
       "38               [How, do, we, prepare, for, UPSC, ?]   \n",
       "56                       [Who, be, israil, friend, ?]   \n",
       "59   [What, be, the, best, way, to, learn, French, ?]   \n",
       "70             [What, be, the, type, of, immunity, ?]   \n",
       "\n",
       "                                               lemma2  \n",
       "16                  [What, do, manipulation, mean, ?]  \n",
       "19  [Which, be, the, best, digital, marketing, ins...  \n",
       "21  [What, can, I, do, to, avoid, be, jealous, of,...  \n",
       "27  [How, do, sport, contribute, to, the, society, ?]  \n",
       "31  [How, can, I, keep, my, nose, from, get, stuff...  \n",
       "37  [My, girlfriend, say, that, we, should, end, t...  \n",
       "38      [How, do, I, prepare, for, civil, service, ?]  \n",
       "56  [Is, my, boyfriend, lie, about, his, true, fee...  \n",
       "59             [How, do, I, learn, french, gender, ?]  \n",
       "70  [What, be, the, different, type, of, immunity,...  "
      ]
     },
     "execution_count": 8,
     "metadata": {},
     "output_type": "execute_result"
    }
   ],
   "source": [
    "quora[['question1','question2','lemma1','lemma2']].head(10)"
   ]
  },
  {
   "cell_type": "code",
   "execution_count": 9,
   "metadata": {
    "collapsed": false
   },
   "outputs": [],
   "source": [
    "import string\n",
    "\n",
    "# Retrait des stopwords des questions\n",
    "\n",
    "stopwords = nltk.corpus.stopwords.words('english')\n",
    "\n",
    "# Nous allons retirer quelques stopwords et ajouter les signes de ponctuation\n",
    "remove_words = ['not', 't', 'why', 'when', 'who', 'which', 'where', 'what', 'how', 'i', 'me', \n",
    "                'my', 'myself', 'we', 'our', 'ours', 'ourselves', 'you', 'your', 'yours', \n",
    "                'yourself', 'yourselves', 'he', 'him', 'his', 'himself', 'she', 'her', 'hers', \n",
    "                'herself', 'it', 'its', 'itself', 'they', 'them', 'their', 'theirs', 'themselves']\n",
    "add_words = []\n",
    "add_words.extend([char for char in string.punctuation])\n",
    "for w in remove_words:\n",
    "    stopwords.remove(w)\n",
    "for w in add_words:\n",
    "    stopwords.append(w)\n",
    "\n",
    "def remove_stopwords(sentence):\n",
    "    out = []\n",
    "    for t in sentence:\n",
    "        if t.lower() not in stopwords:\n",
    "            out.append(t.lower())\n",
    "    return out\n",
    "\n",
    "\n",
    "quora['q1'] = quora.lemma1.apply(lambda x: remove_stopwords(x))\n",
    "quora['q2'] = quora.lemma2.apply(lambda x: remove_stopwords(x))\n"
   ]
  },
  {
   "cell_type": "code",
   "execution_count": 10,
   "metadata": {
    "collapsed": false
   },
   "outputs": [
    {
     "name": "stdout",
     "output_type": "stream",
     "text": [
      "17682 ['delete'] deleted\n",
      "35641 ['what'] What to do ?\n",
      "102512 ['ok'] ok ?\n",
      "104101 [] ?\n",
      "106577 ['what'] What?\n",
      "109311 ['what'] What\n",
      "189659 [] ?\n",
      "205947 ['deleted'] Deleted.\n",
      "216861 ['aaas'] Aaas\n",
      "249633 ['scabies'] Is this scabies?\n",
      "325200 ['error'] Error\n",
      "326297 ['how'] How\n",
      "356434 ['deleted'] Deleted.\n",
      "369529 ['who'] Who is the?\n"
     ]
    }
   ],
   "source": [
    "# Affichage des questions contenant le moins de mots-clés\n",
    "# La plupart ne sont pas valides\n",
    "ids = quora[\"id\"]\n",
    "\n",
    "for i in ids:\n",
    "    if len(quora[\"q1\"][i]) <= 1:\n",
    "        print(i, quora[\"q1\"][i], quora[\"question1\"][i])"
   ]
  },
  {
   "cell_type": "code",
   "execution_count": 11,
   "metadata": {
    "collapsed": false
   },
   "outputs": [],
   "source": [
    "# Nombre de mots-clés de chaque question et différence entre les 2\n",
    "quora['lenq1'] = quora.q1.apply(lambda x: len(x))\n",
    "quora['lenq2'] = quora.q2.apply(lambda x: len(x))\n",
    "quora['diff'] = quora['lenq1'] - quora['lenq2'] "
   ]
  },
  {
   "cell_type": "code",
   "execution_count": 12,
   "metadata": {
    "collapsed": false
   },
   "outputs": [],
   "source": [
    "# Nombre de mots-clés en commun\n",
    "def words_in_common(list1, list2):\n",
    "    if len(list1)<len(list2):\n",
    "        l1 = list1\n",
    "        l2 = list2\n",
    "    else:\n",
    "        l1 = list2\n",
    "        l2 = list1\n",
    "    n = 0\n",
    "    for word in l1:\n",
    "        if word in l2:\n",
    "            n += 1\n",
    "    return n\n",
    "\n",
    "quora['nb_common_words'] = quora.apply(lambda x:words_in_common(x['q1'], x['q2']), axis=1)"
   ]
  },
  {
   "cell_type": "code",
   "execution_count": 13,
   "metadata": {
    "collapsed": true
   },
   "outputs": [],
   "source": [
    "# Ratio nombre de mots communs / nombre total de mots pour chaque liste de mots-clés\n",
    "def ratio_common_words(n, nt):\n",
    "    if nt == 0: # Si la question contient uniquement des stopwords\n",
    "        return 0\n",
    "    else:\n",
    "        return n/nt\n",
    "    \n",
    "quora['ratio_cw_q1'] = quora.apply(lambda x:ratio_common_words(x['nb_common_words'], x['lenq1']), axis=1)\n",
    "quora['ratio_cw_q2'] = quora.apply(lambda x:ratio_common_words(x['nb_common_words'], x['lenq2']), axis=1)\n"
   ]
  },
  {
   "cell_type": "code",
   "execution_count": 29,
   "metadata": {
    "collapsed": false
   },
   "outputs": [
    {
     "name": "stdout",
     "output_type": "stream",
     "text": [
      "n_obs_train  = 32343\n",
      "is_duplicate\n",
      "0    20431\n",
      "1    11912\n",
      "dtype: int64\n"
     ]
    },
    {
     "data": {
      "image/png": "[encoded data removed]",
      "text/plain": [
       "<matplotlib.figure.Figure at 0x7f9a1aef7b00>"
      ]
     },
     "metadata": {},
     "output_type": "display_data"
    }
   ],
   "source": [
    "# On va d'abord diviser notre base de données en une base d'apprentissage et une base de test\n",
    "\n",
    "from sklearn.model_selection import train_test_split\n",
    "train, test = train_test_split(quora, test_size = 0.2)\n",
    "\n",
    "# Nombre de paires de questions\n",
    "n_obs_train = train.shape[0]\n",
    "print(\"n_obs_train  = %d\" %n_obs_train)\n",
    "\n",
    "# Proportion de 0 et de 1\n",
    "print(train.groupby(['is_duplicate']).size())\n",
    "train.groupby(['is_duplicate']).size().plot.bar(title='train set')\n",
    "plt.show()\n"
   ]
  },
  {
   "cell_type": "code",
   "execution_count": 30,
   "metadata": {
    "collapsed": false
   },
   "outputs": [
    {
     "name": "stdout",
     "output_type": "stream",
     "text": [
      "n_obs_test  = 8086\n",
      "is_duplicate\n",
      "0    5030\n",
      "1    3056\n",
      "dtype: int64\n"
     ]
    },
    {
     "data": {
      "image/png": "[encoded data removed]",
      "text/plain": [
       "<matplotlib.figure.Figure at 0x7f9a1af3f4e0>"
      ]
     },
     "metadata": {},
     "output_type": "display_data"
    }
   ],
   "source": [
    "# Nombre de paires de questions\n",
    "n_obs_test = test.shape[0]\n",
    "print(\"n_obs_test  = %d\" %n_obs_test)\n",
    "\n",
    "# Proportion de 0 et de 1\n",
    "print(test.groupby(['is_duplicate']).size())\n",
    "test.groupby(['is_duplicate']).size().plot.bar(title='test set')\n",
    "plt.show()\n"
   ]
  },
  {
   "cell_type": "markdown",
   "metadata": {},
   "source": [
    "## Transformation des questions en vecteurs numériques"
   ]
  },
  {
   "cell_type": "code",
   "execution_count": 31,
   "metadata": {
    "collapsed": true
   },
   "outputs": [],
   "source": [
    "import gensim\n",
    "from gensim import corpora\n",
    "\n",
    "def vectoriser(table):\n",
    "    dictionary = corpora.Dictionary(quora['q1'].tolist() + quora['q2'].tolist())\n",
    "    # On crée un vecteur contenant le nombre d'occurrences de chaque mot du dictionnaire pour chaque question\n",
    "    vecteur1 = [dictionary.doc2bow(text) for text in table[\"q1\"]]\n",
    "    vecteur2 = [dictionary.doc2bow(text) for text in table[\"q2\"]]\n",
    "    return vecteur1, vecteur2"
   ]
  },
  {
   "cell_type": "code",
   "execution_count": 32,
   "metadata": {
    "collapsed": false
   },
   "outputs": [],
   "source": [
    "from gensim import models, similarities\n",
    "\n",
    "# Distance cosinus entre les 2 vecteurs\n",
    "vecteur1, vecteur2 = vectoriser(train)\n",
    "train['vecteur1'] = vecteur1\n",
    "train['vecteur2'] = vecteur2\n",
    "train['cosinus_dist'] = train.apply(lambda x:gensim.matutils.cossim(x['vecteur1'], x['vecteur2']), axis=1)\n",
    "\n",
    "\n",
    "t_vecteur1, t_vecteur2 = vectoriser(test)\n",
    "test['vecteur1'] = t_vecteur1\n",
    "test['vecteur2'] = t_vecteur2\n",
    "test['cosinus_dist'] = test.apply(lambda x:gensim.matutils.cossim(x['vecteur1'], x['vecteur2']), axis=1)"
   ]
  },
  {
   "cell_type": "code",
   "execution_count": 33,
   "metadata": {
    "collapsed": false
   },
   "outputs": [],
   "source": [
    "# Calcul du score TF-IDF score pour chaque mot\n",
    "\n",
    "corpora.MmCorpus.serialize('corpus.mm', vecteur1 + vecteur2) # Sauvegarder le corpus\n",
    "corpus1 = corpora.MmCorpus('corpus.mm') # Charger le corpus\n",
    "\n",
    "corpora.MmCorpus.serialize('t_corpus.mm', t_vecteur1 + t_vecteur2) # Sauvegarder le corpus\n",
    "t_corpus1 = corpora.MmCorpus('t_corpus.mm') # Charger le corpus"
   ]
  },
  {
   "cell_type": "code",
   "execution_count": 34,
   "metadata": {
    "collapsed": false
   },
   "outputs": [],
   "source": [
    "tfidf = models.TfidfModel(corpus1)\n",
    "\n",
    "t_tfidf = models.TfidfModel(t_corpus1)"
   ]
  },
  {
   "cell_type": "code",
   "execution_count": 35,
   "metadata": {
    "collapsed": false
   },
   "outputs": [
    {
     "name": "stdout",
     "output_type": "stream",
     "text": [
      "[(38, 0.1310898006489969), (62, 0.2433340485605278), (1032, 0.42482912385939764), (1113, 0.5644892055182107), (1858, 0.6515183476704434)]\n"
     ]
    }
   ],
   "source": [
    "# Exemple vecteur en utilisant le score tfidf\n",
    "corpus_tfidf = tfidf[vecteur1[0]]\n",
    "print(corpus_tfidf)"
   ]
  },
  {
   "cell_type": "code",
   "execution_count": 36,
   "metadata": {
    "collapsed": false
   },
   "outputs": [],
   "source": [
    "train['vecteur1_Tfidf'] = train.vecteur1.apply(lambda x: tfidf[x])\n",
    "train['vecteur2_Tfidf'] = train.vecteur2.apply(lambda x: tfidf[x])\n",
    "train['cosinus_dist_Tfidf'] = train.apply(\n",
    "    lambda x:gensim.matutils.cossim(x['vecteur1_Tfidf'], x['vecteur2_Tfidf']), axis=1)\n",
    "\n",
    "test['vecteur1_Tfidf'] = test.vecteur1.apply(lambda x: t_tfidf[x])\n",
    "test['vecteur2_Tfidf'] = test.vecteur2.apply(lambda x: t_tfidf[x])\n",
    "test['cosinus_dist_Tfidf'] = test.apply(\n",
    "    lambda x:gensim.matutils.cossim(x['vecteur1_Tfidf'], x['vecteur2_Tfidf']), axis=1)\n"
   ]
  },
  {
   "cell_type": "code",
   "execution_count": 37,
   "metadata": {
    "collapsed": false
   },
   "outputs": [
    {
     "name": "stdout",
     "output_type": "stream",
     "text": [
      "['id', 'qid1', 'qid2', 'question1', 'question2', 'is_duplicate', 'tokens1', 'tokens2', 'tokenspos1', 'tokenspos2', 'lemma1', 'lemma2', 'q1', 'q2', 'lenq1', 'lenq2', 'diff', 'nb_common_words', 'ratio_cw_q1', 'ratio_cw_q2', 'vecteur1', 'vecteur2', 'cosinus_dist', 'vecteur1_Tfidf', 'vecteur2_Tfidf', 'cosinus_dist_Tfidf']\n"
     ]
    },
    {
     "data": {
      "text/html": [
       "<div>\n",
       "<table border=\"1\" class=\"dataframe\">\n",
       "  <thead>\n",
       "    <tr style=\"text-align: right;\">\n",
       "      <th></th>\n",
       "      <th>question1</th>\n",
       "      <th>lemma1</th>\n",
       "      <th>q1</th>\n",
       "      <th>lenq1</th>\n",
       "      <th>diff</th>\n",
       "      <th>nb_common_words</th>\n",
       "      <th>ratio_cw_q1</th>\n",
       "      <th>cosinus_dist</th>\n",
       "      <th>vecteur1_Tfidf</th>\n",
       "      <th>cosinus_dist_Tfidf</th>\n",
       "    </tr>\n",
       "  </thead>\n",
       "  <tbody>\n",
       "    <tr>\n",
       "      <th>220973</th>\n",
       "      <td>How hard is it to become a doctor?</td>\n",
       "      <td>[How, hard, be, it, to, become, a, doctor, ?]</td>\n",
       "      <td>[how, hard, it, become, doctor]</td>\n",
       "      <td>5</td>\n",
       "      <td>-1</td>\n",
       "      <td>4</td>\n",
       "      <td>0.800000</td>\n",
       "      <td>0.790569</td>\n",
       "      <td>[(38, 0.1310898006489969), (62, 0.243334048560...</td>\n",
       "      <td>0.897616</td>\n",
       "    </tr>\n",
       "    <tr>\n",
       "      <th>60724</th>\n",
       "      <td>Where can I get high quality promotional self-...</td>\n",
       "      <td>[Where, can, I, get, high, quality, promotiona...</td>\n",
       "      <td>[where, i, get, high, quality, promotional, se...</td>\n",
       "      <td>11</td>\n",
       "      <td>0</td>\n",
       "      <td>7</td>\n",
       "      <td>0.636364</td>\n",
       "      <td>0.636364</td>\n",
       "      <td>[(21, 0.12265613358890189), (86, 0.06549403059...</td>\n",
       "      <td>0.462982</td>\n",
       "    </tr>\n",
       "    <tr>\n",
       "      <th>169079</th>\n",
       "      <td>What are the most promising Silicon Valley sta...</td>\n",
       "      <td>[What, be, the, most, promising, Silicon, Vall...</td>\n",
       "      <td>[what, promising, silicon, valley, startup, wa...</td>\n",
       "      <td>7</td>\n",
       "      <td>2</td>\n",
       "      <td>4</td>\n",
       "      <td>0.571429</td>\n",
       "      <td>0.676123</td>\n",
       "      <td>[(0, 0.05598333847973518), (385, 0.30969722474...</td>\n",
       "      <td>0.591185</td>\n",
       "    </tr>\n",
       "    <tr>\n",
       "      <th>287163</th>\n",
       "      <td>What is the cheapest, painless, easiest way to...</td>\n",
       "      <td>[What, be, the, cheapest, ,, painless, ,, easi...</td>\n",
       "      <td>[what, cheapest, painless, easiest, way, commi...</td>\n",
       "      <td>7</td>\n",
       "      <td>-3</td>\n",
       "      <td>4</td>\n",
       "      <td>0.571429</td>\n",
       "      <td>0.478091</td>\n",
       "      <td>[(0, 0.06002708253502831), (45, 0.222452909300...</td>\n",
       "      <td>0.350045</td>\n",
       "    </tr>\n",
       "    <tr>\n",
       "      <th>21548</th>\n",
       "      <td>What are the best places to live if one has ar...</td>\n",
       "      <td>[What, be, the, best, place, to, live, if, one...</td>\n",
       "      <td>[what, best, place, live, one, arthritis]</td>\n",
       "      <td>6</td>\n",
       "      <td>-2</td>\n",
       "      <td>3</td>\n",
       "      <td>0.500000</td>\n",
       "      <td>0.433013</td>\n",
       "      <td>[(0, 0.07218989425514374), (4, 0.1878898640351...</td>\n",
       "      <td>0.310552</td>\n",
       "    </tr>\n",
       "  </tbody>\n",
       "</table>\n",
       "</div>"
      ],
      "text/plain": [
       "                                                question1  \\\n",
       "220973                 How hard is it to become a doctor?   \n",
       "60724   Where can I get high quality promotional self-...   \n",
       "169079  What are the most promising Silicon Valley sta...   \n",
       "287163  What is the cheapest, painless, easiest way to...   \n",
       "21548   What are the best places to live if one has ar...   \n",
       "\n",
       "                                                   lemma1  \\\n",
       "220973      [How, hard, be, it, to, become, a, doctor, ?]   \n",
       "60724   [Where, can, I, get, high, quality, promotiona...   \n",
       "169079  [What, be, the, most, promising, Silicon, Vall...   \n",
       "287163  [What, be, the, cheapest, ,, painless, ,, easi...   \n",
       "21548   [What, be, the, best, place, to, live, if, one...   \n",
       "\n",
       "                                                       q1  lenq1  diff  \\\n",
       "220973                    [how, hard, it, become, doctor]      5    -1   \n",
       "60724   [where, i, get, high, quality, promotional, se...     11     0   \n",
       "169079  [what, promising, silicon, valley, startup, wa...      7     2   \n",
       "287163  [what, cheapest, painless, easiest, way, commi...      7    -3   \n",
       "21548           [what, best, place, live, one, arthritis]      6    -2   \n",
       "\n",
       "        nb_common_words  ratio_cw_q1  cosinus_dist  \\\n",
       "220973                4     0.800000      0.790569   \n",
       "60724                 7     0.636364      0.636364   \n",
       "169079                4     0.571429      0.676123   \n",
       "287163                4     0.571429      0.478091   \n",
       "21548                 3     0.500000      0.433013   \n",
       "\n",
       "                                           vecteur1_Tfidf  cosinus_dist_Tfidf  \n",
       "220973  [(38, 0.1310898006489969), (62, 0.243334048560...            0.897616  \n",
       "60724   [(21, 0.12265613358890189), (86, 0.06549403059...            0.462982  \n",
       "169079  [(0, 0.05598333847973518), (385, 0.30969722474...            0.591185  \n",
       "287163  [(0, 0.06002708253502831), (45, 0.222452909300...            0.350045  \n",
       "21548   [(0, 0.07218989425514374), (4, 0.1878898640351...            0.310552  "
      ]
     },
     "execution_count": 37,
     "metadata": {},
     "output_type": "execute_result"
    }
   ],
   "source": [
    "print(list(train.columns.values))\n",
    "train[['question1', 'lemma1', 'q1', 'lenq1', 'diff', 'nb_common_words', 'ratio_cw_q1',\n",
    "       'cosinus_dist', 'vecteur1_Tfidf', 'cosinus_dist_Tfidf']].head(5)"
   ]
  },
  {
   "cell_type": "markdown",
   "metadata": {},
   "source": [
    "## Lancement des classifieurs"
   ]
  },
  {
   "cell_type": "code",
   "execution_count": 38,
   "metadata": {
    "collapsed": true
   },
   "outputs": [],
   "source": [
    "from sklearn.preprocessing import StandardScaler\n",
    "from sklearn.metrics import accuracy_score\n",
    "from sklearn.metrics import confusion_matrix\n",
    "from sklearn.metrics import classification_report\n",
    "\n",
    "y_train = train[\"is_duplicate\"]\n",
    "X_train = train[[\"diff\", \"nb_common_words\", \"lenq1\", \"lenq2\", \"ratio_cw_q1\", \"ratio_cw_q2\",\n",
    "                 \"cosinus_dist\", \"cosinus_dist_Tfidf\"]]\n",
    "\n",
    "y_test = test[\"is_duplicate\"]\n",
    "X_test = test[[\"diff\", \"nb_common_words\", \"lenq1\", \"lenq2\", \"ratio_cw_q1\", \"ratio_cw_q2\",\n",
    "               \"cosinus_dist\", \"cosinus_dist_Tfidf\"]]\n",
    "\n",
    "X_train = StandardScaler().fit_transform(X_train)\n",
    "X_test = StandardScaler().fit_transform(X_test)"
   ]
  },
  {
   "cell_type": "markdown",
   "metadata": {},
   "source": [
    "### Random forest"
   ]
  },
  {
   "cell_type": "code",
   "execution_count": 39,
   "metadata": {
    "collapsed": false
   },
   "outputs": [
    {
     "name": "stdout",
     "output_type": "stream",
     "text": [
      "Accuracy =  0.670789018056\n",
      "               precision    recall  f1-score   support\n",
      "\n",
      "not duplicate       0.73      0.75      0.74      5030\n",
      "    duplicate       0.57      0.54      0.55      3056\n",
      "\n",
      "  avg / total       0.67      0.67      0.67      8086\n",
      "\n"
     ]
    }
   ],
   "source": [
    "from sklearn.ensemble import RandomForestClassifier\n",
    "from sklearn.calibration import CalibratedClassifierCV\n",
    "from sklearn.metrics import log_loss\n",
    "\n",
    "clf = RandomForestClassifier(n_estimators=25)\n",
    "clf.fit(X_train, y_train)\n",
    "y_pred = clf.predict(X_test)\n",
    "print(\"Accuracy = \", accuracy_score(y_test, y_pred))\n",
    "#print(confusion_matrix(y_test, y_pred))\n",
    "print(classification_report(y_test, y_pred, target_names=[\"not duplicate\", \"duplicate\"]))"
   ]
  },
  {
   "cell_type": "markdown",
   "metadata": {},
   "source": [
    "### MLP"
   ]
  },
  {
   "cell_type": "code",
   "execution_count": 40,
   "metadata": {
    "collapsed": false
   },
   "outputs": [
    {
     "name": "stdout",
     "output_type": "stream",
     "text": [
      "Accuracy =  0.717783823893\n",
      "               precision    recall  f1-score   support\n",
      "\n",
      "not duplicate       0.76      0.80      0.78      5030\n",
      "    duplicate       0.64      0.58      0.61      3056\n",
      "\n",
      "  avg / total       0.71      0.72      0.71      8086\n",
      "\n"
     ]
    }
   ],
   "source": [
    "from sklearn.neural_network import MLPClassifier\n",
    "\n",
    "mlp = MLPClassifier(solver='lbfgs', alpha=1e-5, hidden_layer_sizes=(16, 16, 8), random_state=1)\n",
    "mlp.fit(X_train, y_train)\n",
    "y_pred = mlp.predict(X_test)\n",
    "print(\"Accuracy = \", accuracy_score(y_test, y_pred))\n",
    "#print(confusion_matrix(y_test, y_pred))\n",
    "print(classification_report(y_test, y_pred, target_names=[\"not duplicate\", \"duplicate\"]))"
   ]
  },
  {
   "cell_type": "markdown",
   "metadata": {},
   "source": [
    "### KNN"
   ]
  },
  {
   "cell_type": "code",
   "execution_count": 41,
   "metadata": {
    "collapsed": false
   },
   "outputs": [
    {
     "name": "stdout",
     "output_type": "stream",
     "text": [
      "Accuracy =  0.708384862726\n",
      "               precision    recall  f1-score   support\n",
      "\n",
      "not duplicate       0.75      0.80      0.77      5030\n",
      "    duplicate       0.63      0.55      0.59      3056\n",
      "\n",
      "  avg / total       0.70      0.71      0.70      8086\n",
      "\n"
     ]
    }
   ],
   "source": [
    "from sklearn.neighbors import KNeighborsClassifier\n",
    "\n",
    "knn = KNeighborsClassifier(n_neighbors=100)\n",
    "knn.fit(X_train, y_train)\n",
    "y_pred = knn.predict(X_test)\n",
    "print(\"Accuracy = \", accuracy_score(y_test, y_pred))\n",
    "#print(confusion_matrix(y_test, y_pred))\n",
    "print(classification_report(y_test, y_pred, target_names=[\"not duplicate\", \"duplicate\"]))"
   ]
  },
  {
   "cell_type": "markdown",
   "metadata": {},
   "source": [
    "### AdaBoost"
   ]
  },
  {
   "cell_type": "code",
   "execution_count": 42,
   "metadata": {
    "collapsed": false
   },
   "outputs": [
    {
     "name": "stdout",
     "output_type": "stream",
     "text": [
      "Accuracy =  0.707642839476\n",
      "               precision    recall  f1-score   support\n",
      "\n",
      "not duplicate       0.75      0.81      0.77      5030\n",
      "    duplicate       0.63      0.55      0.59      3056\n",
      "\n",
      "  avg / total       0.70      0.71      0.70      8086\n",
      "\n"
     ]
    }
   ],
   "source": [
    "from sklearn.ensemble import AdaBoostClassifier\n",
    "from sklearn.tree import DecisionTreeClassifier\n",
    "\n",
    "ada = AdaBoostClassifier(DecisionTreeClassifier(max_depth=5), algorithm=\"SAMME\", n_estimators=50)\n",
    "ada.fit(X_train, y_train)\n",
    "y_pred = ada.predict(X_test)\n",
    "print(\"Accuracy = \", accuracy_score(y_test, y_pred))\n",
    "#print(confusion_matrix(y_test, y_pred))\n",
    "print(classification_report(y_test, y_pred, target_names=[\"not duplicate\", \"duplicate\"]))"
   ]
  },
  {
   "cell_type": "markdown",
   "metadata": {},
   "source": [
    "## Analyse des résultats\n",
    "Les différents classifieurs obtiennent des scores assez similaires. On a fait varier les paramètres pour optimiser les résultats.\n",
    "\n",
    "On obtient des résultats substantiellement meilleurs en moyenne avec un réseau de neurones profond (MLP). Cependant, l'algorithme k-nearest neighbours offre une précision supérieure."
   ]
  },
  {
   "cell_type": "markdown",
   "metadata": {},
   "source": [
    "### Idées d'amélioration\n",
    "- L'utilisation d'un dictionnaire de synonymes aurait pu améliorer les prédictions. En plus de compter le nombre de mots communs aux deux questions, on compte les mots synonymes.\n",
    "- Utiliser d'autres outils de classification (comme XGBoost) qui donnent de bons résultats sur ce genre de problème."
   ]
  }
 ],
 "metadata": {
  "kernelspec": {
   "display_name": "Python 3",
   "language": "python",
   "name": "python3"
  },
  "language_info": {
   "codemirror_mode": {
    "name": "ipython",
    "version": 3
   },
   "file_extension": ".py",
   "mimetype": "text/x-python",
   "name": "python",
   "nbconvert_exporter": "python",
   "pygments_lexer": "ipython3",
   "version": "3.6.0"
  }
 },
 "nbformat": 4,
 "nbformat_minor": 2
}
